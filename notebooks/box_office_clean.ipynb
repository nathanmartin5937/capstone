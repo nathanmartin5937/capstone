{
 "cells": [
  {
   "cell_type": "code",
   "execution_count": null,
   "id": "1b65f4d8",
   "metadata": {},
   "outputs": [],
   "source": [
    "import pandas as pd\n",
    "import numpy as np\n",
    "import matplotlib.pyplot as plt\n",
    "import seaborn as sns\n",
    "from datetime import datetime\n",
    "import datetime"
   ]
  },
  {
   "cell_type": "markdown",
   "id": "58bd6e49",
   "metadata": {},
   "source": [
    "Reading in csv's"
   ]
  },
  {
   "cell_type": "code",
   "execution_count": null,
   "id": "3cff48e5",
   "metadata": {
    "scrolled": true
   },
   "outputs": [],
   "source": [
    "international_df = pd.read_csv('../data/box_office_international.csv')\n",
    "international_df"
   ]
  },
  {
   "cell_type": "code",
   "execution_count": null,
   "id": "de80573e",
   "metadata": {
    "scrolled": true
   },
   "outputs": [],
   "source": [
    "domestic_df = pd.read_csv('../data/box_office_domestic.csv')\n",
    "domestic_df"
   ]
  },
  {
   "cell_type": "markdown",
   "id": "ba618543",
   "metadata": {},
   "source": [
    "Cleaning data"
   ]
  },
  {
   "cell_type": "code",
   "execution_count": null,
   "id": "dd386d5a",
   "metadata": {},
   "outputs": [],
   "source": [
    "international_df = international_df.drop(['Top 10 Gross', \n",
    "                      '%± LW', '%± LW.1', \n",
    "                      'Genre', 'Budget', \n",
    "                      'Running Time', \n",
    "                      'Week', \n",
    "                      'Long Weekend', \n",
    "                      'Unnamed: 0'], axis = 1)\n",
    "international_df"
   ]
  },
  {
   "cell_type": "code",
   "execution_count": null,
   "id": "499b6fec",
   "metadata": {},
   "outputs": [],
   "source": [
    "domestic_df = domestic_df.drop(['Day', 'Day #', '%± YD', '%± LW', 'Top 10 Gross', 'Unnamed: 0'], axis = 1)\n",
    "domestic_df"
   ]
  },
  {
   "cell_type": "code",
   "execution_count": null,
   "id": "272301b3",
   "metadata": {},
   "outputs": [],
   "source": [
    "domestic_df.rename(columns = {'#1 Release':'Title'}, inplace = True)\n",
    "domestic_df"
   ]
  },
  {
   "cell_type": "code",
   "execution_count": null,
   "id": "1928ad58",
   "metadata": {},
   "outputs": [],
   "source": [
    "international_df = international_df[['Dates', 'Releases', '#1 Release', 'Overall Gross', 'Year', 'Country']]\n",
    "international_df.rename(columns = {'Dates':'Date', 'Overall Gross':'Gross', '#1 Release':'Title'}, inplace = True)\n",
    "international_df"
   ]
  },
  {
   "cell_type": "markdown",
   "id": "8fe8ddc1",
   "metadata": {},
   "source": [
    "Concatening data"
   ]
  },
  {
   "cell_type": "code",
   "execution_count": null,
   "id": "47dbfb1b",
   "metadata": {},
   "outputs": [],
   "source": [
    "box_office = [international_df, domestic_df]\n",
    "  \n",
    "box_office_df = pd.concat(box_office)\n",
    "box_office_df"
   ]
  },
  {
   "cell_type": "markdown",
   "id": "164d19ba",
   "metadata": {},
   "source": [
    "Analysis"
   ]
  },
  {
   "cell_type": "code",
   "execution_count": null,
   "id": "0a37a6a3",
   "metadata": {},
   "outputs": [],
   "source": [
    "box_office_df.info()"
   ]
  },
  {
   "cell_type": "code",
   "execution_count": null,
   "id": "f41966bb",
   "metadata": {},
   "outputs": [],
   "source": [
    "box_office_df['Gross'] = (box_office_df['Gross'].replace( '[\\$,)]','', regex=True )\n",
    "               .replace( '[(]','-',   regex=True ).astype(float))\n",
    "box_office_df"
   ]
  },
  {
   "cell_type": "code",
   "execution_count": null,
   "id": "8f237bf5",
   "metadata": {},
   "outputs": [],
   "source": [
    "box_office_df['Year'] = box_office_df['Year'].astype(object)\n",
    "box_office_df"
   ]
  },
  {
   "cell_type": "code",
   "execution_count": null,
   "id": "c5d0ba0f",
   "metadata": {},
   "outputs": [],
   "source": [
    "box_office_df['Month'] = box_office_df['Date'].str[:3]\n",
    "box_office_df"
   ]
  },
  {
   "cell_type": "code",
   "execution_count": null,
   "id": "eca59787",
   "metadata": {
    "scrolled": true
   },
   "outputs": [],
   "source": [
    "box_office_df['Month'] = [1 if x == 'Jan' \n",
    "                          else 2 if x == 'Feb' \n",
    "                          else 3 if x == 'Mar' \n",
    "                          else 4 if x == 'Apr' \n",
    "                          else 5 if x == 'May' \n",
    "                          else 6 if x == 'Jun' \n",
    "                          else 7 if x == 'Jul' \n",
    "                          else 8 if x == 'Aug' \n",
    "                          else 9 if x == 'Sep' \n",
    "                          else 10 if x == 'Oct' \n",
    "                          else 11 if x == 'Nov' \n",
    "                          else 12 if x == 'Dec' \n",
    "                          else ''\n",
    "                          for x in box_office_df['Month']]\n",
    "box_office_df"
   ]
  },
  {
   "cell_type": "markdown",
   "id": "f84f2c1b",
   "metadata": {},
   "source": [
    "Creating CSV"
   ]
  },
  {
   "cell_type": "code",
   "execution_count": null,
   "id": "ba2ffa49",
   "metadata": {},
   "outputs": [],
   "source": [
    "#box_office_df.to_csv('box_office_clean.csv')\n",
    "#box_office_df.to_csv('C:/Users/natha/Documents/NSS/Projects/capstone_3/data/box_office_clean.csv')"
   ]
  }
 ],
 "metadata": {
  "kernelspec": {
   "display_name": "Python 3 (ipykernel)",
   "language": "python",
   "name": "python3"
  },
  "language_info": {
   "codemirror_mode": {
    "name": "ipython",
    "version": 3
   },
   "file_extension": ".py",
   "mimetype": "text/x-python",
   "name": "python",
   "nbconvert_exporter": "python",
   "pygments_lexer": "ipython3",
   "version": "3.9.7"
  }
 },
 "nbformat": 4,
 "nbformat_minor": 5
}
