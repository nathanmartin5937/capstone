{
 "cells": [
  {
   "cell_type": "code",
   "execution_count": null,
   "id": "86805305",
   "metadata": {},
   "outputs": [],
   "source": [
    "import pandas as pd\n",
    "import numpy as np\n",
    "import matplotlib.pyplot as plt\n",
    "import seaborn as sns"
   ]
  },
  {
   "cell_type": "code",
   "execution_count": null,
   "id": "228ec93e",
   "metadata": {},
   "outputs": [],
   "source": [
    "covid_df = pd.read_csv('../data/covid_data.csv')\n",
    "covid_df"
   ]
  },
  {
   "cell_type": "code",
   "execution_count": null,
   "id": "2ad384dd",
   "metadata": {},
   "outputs": [],
   "source": [
    "top = covid_df[['Country/Region', 'Confirmed', 'Date']]\n",
    "top"
   ]
  },
  {
   "cell_type": "code",
   "execution_count": null,
   "id": "ae5080c8",
   "metadata": {},
   "outputs": [],
   "source": [
    "top = top[top['Country/Region'].isin(['Japan', 'United Kingdom', 'South Korea', 'Germany', 'US', 'Canada'])]\n",
    "top"
   ]
  },
  {
   "cell_type": "code",
   "execution_count": null,
   "id": "062043ca",
   "metadata": {},
   "outputs": [],
   "source": [
    "top = top.loc[top.groupby(\"Country/Region\")[\"Confirmed\"].idxmax()]\n",
    "top"
   ]
  },
  {
   "cell_type": "code",
   "execution_count": null,
   "id": "eb0b17a6",
   "metadata": {},
   "outputs": [],
   "source": [
    "positive = top['Confirmed']\n",
    "country = top['Country/Region']\n",
    "plt.subplots(figsize=(15, 10))\n",
    "plt.bar(country, positive)\n",
    "plt.show() "
   ]
  },
  {
   "cell_type": "code",
   "execution_count": null,
   "id": "4f327a15",
   "metadata": {},
   "outputs": [],
   "source": [
    "."
   ]
  }
 ],
 "metadata": {
  "kernelspec": {
   "display_name": "Python 3 (ipykernel)",
   "language": "python",
   "name": "python3"
  },
  "language_info": {
   "codemirror_mode": {
    "name": "ipython",
    "version": 3
   },
   "file_extension": ".py",
   "mimetype": "text/x-python",
   "name": "python",
   "nbconvert_exporter": "python",
   "pygments_lexer": "ipython3",
   "version": "3.9.7"
  }
 },
 "nbformat": 4,
 "nbformat_minor": 5
}
