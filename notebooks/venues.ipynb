{
 "cells": [
  {
   "cell_type": "code",
   "execution_count": null,
   "id": "2ae74107",
   "metadata": {},
   "outputs": [],
   "source": [
    "import pandas as pd\n",
    "import numpy as np\n",
    "import matplotlib.pyplot as plt\n",
    "import seaborn as sns"
   ]
  },
  {
   "cell_type": "code",
   "execution_count": null,
   "id": "d2992a69",
   "metadata": {},
   "outputs": [],
   "source": [
    "venue_df = pd.read_csv('../data/venues.csv')\n",
    "venue_df.tail(60)"
   ]
  },
  {
   "cell_type": "code",
   "execution_count": null,
   "id": "06ac327e",
   "metadata": {},
   "outputs": [],
   "source": [
    "venue_df = venue_df.drop(['Unnamed: 0'], axis = 1)\n",
    "venue_df"
   ]
  },
  {
   "cell_type": "code",
   "execution_count": null,
   "id": "777037af",
   "metadata": {},
   "outputs": [],
   "source": [
    "#venue_df = venue_df.drop_duplicates(subset=[\"year\", \"venue\"], keep=False)\n",
    "#venue_df"
   ]
  },
  {
   "cell_type": "code",
   "execution_count": null,
   "id": "455239ec",
   "metadata": {
    "scrolled": true
   },
   "outputs": [],
   "source": [
    "venue_df.info()"
   ]
  },
  {
   "cell_type": "code",
   "execution_count": null,
   "id": "feb2d4c3",
   "metadata": {},
   "outputs": [],
   "source": [
    "venue_df['Month'] = venue_df['year'].str[:3]\n",
    "venue_df"
   ]
  },
  {
   "cell_type": "code",
   "execution_count": null,
   "id": "ef351e13",
   "metadata": {},
   "outputs": [],
   "source": [
    "venue_df['Month'] = [1 if x == 'Jan' \n",
    "                          else 2 if x == 'Feb' \n",
    "                          else 3 if x == 'Mar' \n",
    "                          else 4 if x == 'Apr' \n",
    "                          else 5 if x == 'May' \n",
    "                          else 6 if x == 'Jun' \n",
    "                          else 7 if x == 'Jul' \n",
    "                          else 8 if x == 'Aug' \n",
    "                          else 9 if x == 'Sep' \n",
    "                          else 10 if x == 'Oct' \n",
    "                          else 11 if x == 'Nov' \n",
    "                          else 12 if x == 'Dec' \n",
    "                          else ''\n",
    "                          for x in venue_df['Month']]\n",
    "#box_office_df['Month'] = np.where(box_office_df['Month']=='Jan', 5)\n",
    "venue_df"
   ]
  },
  {
   "cell_type": "code",
   "execution_count": null,
   "id": "9864b430",
   "metadata": {},
   "outputs": [],
   "source": [
    "venue_df.rename(columns = {'year':'Date', 'artist':'Artist', 'venue':'Venue', 'location':'Location', 'country':'Country'}, inplace = True)\n",
    "venue_df"
   ]
  },
  {
   "cell_type": "code",
   "execution_count": null,
   "id": "d38c8227",
   "metadata": {},
   "outputs": [],
   "source": [
    "venue_df['Year'] = venue_df['Date'].str[8:12]\n",
    "venue_df"
   ]
  },
  {
   "cell_type": "code",
   "execution_count": null,
   "id": "cbb2723b",
   "metadata": {},
   "outputs": [],
   "source": [
    "venue_df['Concerts']=1"
   ]
  },
  {
   "cell_type": "code",
   "execution_count": null,
   "id": "cf2f9df8",
   "metadata": {},
   "outputs": [],
   "source": [
    "venue_df['Year'] = venue_df['Year'].astype(str)\n",
    "venue_df['Date'] = venue_df['Date'].astype(object)\n",
    "venue_df"
   ]
  },
  {
   "cell_type": "code",
   "execution_count": null,
   "id": "f893b276",
   "metadata": {},
   "outputs": [],
   "source": [
    "venue_df.info()"
   ]
  },
  {
   "cell_type": "code",
   "execution_count": null,
   "id": "64ed5394",
   "metadata": {},
   "outputs": [],
   "source": [
    "venue_df.tail()"
   ]
  },
  {
   "cell_type": "code",
   "execution_count": null,
   "id": "4bec87eb",
   "metadata": {},
   "outputs": [],
   "source": [
    "#venue_df = venue_df[venue_df.Date != ',2016']\n",
    "discard = [\"2016\"]\n",
    "venue_df[~venue_df.Year.str.contains('|'.join(discard))]\n",
    "venue_df"
   ]
  },
  {
   "cell_type": "code",
   "execution_count": null,
   "id": "ffa73eb3",
   "metadata": {},
   "outputs": [],
   "source": [
    "venue_year = venue_df.groupby(['Year', 'Country'], as_index=False,).agg({'Concerts':'sum'})\n",
    "venue_year"
   ]
  },
  {
   "cell_type": "code",
   "execution_count": null,
   "id": "84d6fa56",
   "metadata": {},
   "outputs": [],
   "source": []
  }
 ],
 "metadata": {
  "kernelspec": {
   "display_name": "Python 3 (ipykernel)",
   "language": "python",
   "name": "python3"
  },
  "language_info": {
   "codemirror_mode": {
    "name": "ipython",
    "version": 3
   },
   "file_extension": ".py",
   "mimetype": "text/x-python",
   "name": "python",
   "nbconvert_exporter": "python",
   "pygments_lexer": "ipython3",
   "version": "3.9.7"
  }
 },
 "nbformat": 4,
 "nbformat_minor": 5
}
