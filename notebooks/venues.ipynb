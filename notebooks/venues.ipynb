{
 "cells": [
  {
   "cell_type": "code",
   "execution_count": null,
   "id": "8a93988d",
   "metadata": {},
   "outputs": [],
   "source": [
    "import pandas as pd\n",
    "import numpy as np\n",
    "import matplotlib.pyplot as plt\n",
    "import seaborn as sns"
   ]
  },
  {
   "cell_type": "code",
   "execution_count": null,
   "id": "cb689410",
   "metadata": {},
   "outputs": [],
   "source": [
    "venue_df = pd.read_csv('../data/venues.csv')\n",
    "venue_df"
   ]
  },
  {
   "cell_type": "code",
   "execution_count": null,
   "id": "c7f41060",
   "metadata": {},
   "outputs": [],
   "source": [
    "venue_df = venue_df.drop(['Unnamed: 0'], axis = 1)\n",
    "venue_df"
   ]
  },
  {
   "cell_type": "code",
   "execution_count": null,
   "id": "7cb9777f",
   "metadata": {},
   "outputs": [],
   "source": [
    "#venue_df = venue_df.drop_duplicates(subset=[\"year\", \"venue\"], keep=False)\n",
    "#venue_df"
   ]
  },
  {
   "cell_type": "code",
   "execution_count": null,
   "id": "8d089bf1",
   "metadata": {
    "scrolled": true
   },
   "outputs": [],
   "source": [
    "venue_df.info()"
   ]
  },
  {
   "cell_type": "code",
   "execution_count": null,
   "id": "b8a0ed4a",
   "metadata": {},
   "outputs": [],
   "source": [
    "venue_df['Month'] = venue_df['year'].str[:3]\n",
    "venue_df"
   ]
  },
  {
   "cell_type": "code",
   "execution_count": null,
   "id": "d3a1cf41",
   "metadata": {},
   "outputs": [],
   "source": [
    "venue_df['Month'] = [1 if x == 'Jan' \n",
    "                          else 2 if x == 'Feb' \n",
    "                          else 3 if x == 'Mar' \n",
    "                          else 4 if x == 'Apr' \n",
    "                          else 5 if x == 'May' \n",
    "                          else 6 if x == 'Jun' \n",
    "                          else 7 if x == 'Jul' \n",
    "                          else 8 if x == 'Aug' \n",
    "                          else 9 if x == 'Sep' \n",
    "                          else 10 if x == 'Oct' \n",
    "                          else 11 if x == 'Nov' \n",
    "                          else 12 if x == 'Dec' \n",
    "                          else ''\n",
    "                          for x in venue_df['Month']]\n",
    "#box_office_df['Month'] = np.where(box_office_df['Month']=='Jan', 5)\n",
    "venue_df"
   ]
  },
  {
   "cell_type": "code",
   "execution_count": null,
   "id": "b0feb260",
   "metadata": {},
   "outputs": [],
   "source": [
    "venue_df.rename(columns = {'year':'Date', 'artist':'Artist', 'venue':'Venue', 'location':'Location', 'country':'Country'}, inplace = True)\n",
    "venue_df"
   ]
  },
  {
   "cell_type": "code",
   "execution_count": null,
   "id": "577866ab",
   "metadata": {},
   "outputs": [],
   "source": [
    "venue_df['Year'] = venue_df['Date'].str[8:12]\n",
    "venue_df"
   ]
  },
  {
   "cell_type": "code",
   "execution_count": null,
   "id": "2612e6e9",
   "metadata": {},
   "outputs": [],
   "source": [
    "venue_df['Concerts']=1"
   ]
  },
  {
   "cell_type": "code",
   "execution_count": null,
   "id": "288dfda6",
   "metadata": {},
   "outputs": [],
   "source": [
    "venue_df['Year'] = venue_df['Year'].astype(str)\n",
    "venue_df['Date'] = venue_df['Date'].astype(object)\n",
    "venue_df"
   ]
  },
  {
   "cell_type": "code",
   "execution_count": null,
   "id": "071b1eb5",
   "metadata": {},
   "outputs": [],
   "source": [
    "venue_df.info()"
   ]
  },
  {
   "cell_type": "code",
   "execution_count": null,
   "id": "4c36c511",
   "metadata": {},
   "outputs": [],
   "source": [
    "venue_df"
   ]
  },
  {
   "cell_type": "code",
   "execution_count": null,
   "id": "ace243ff",
   "metadata": {},
   "outputs": [],
   "source": [
    "#venue_df = venue_df[venue_df.Date != ',2016']\n",
    "venue_df=venue_df.query(\"Year > '2016'\")\n",
    "venue_df"
   ]
  },
  {
   "cell_type": "code",
   "execution_count": null,
   "id": "2e502ac5",
   "metadata": {},
   "outputs": [],
   "source": [
    "#venue_df.to_csv('venue_clean.csv')\n",
    "#venue_df.to_csv('C:/Users/natha/Documents/NSS/Projects/capstone_3/data/venue_clean.csv')"
   ]
  },
  {
   "cell_type": "code",
   "execution_count": null,
   "id": "a05c6d31",
   "metadata": {},
   "outputs": [],
   "source": []
  }
 ],
 "metadata": {
  "kernelspec": {
   "display_name": "Python 3 (ipykernel)",
   "language": "python",
   "name": "python3"
  },
  "language_info": {
   "codemirror_mode": {
    "name": "ipython",
    "version": 3
   },
   "file_extension": ".py",
   "mimetype": "text/x-python",
   "name": "python",
   "nbconvert_exporter": "python",
   "pygments_lexer": "ipython3",
   "version": "3.9.7"
  }
 },
 "nbformat": 4,
 "nbformat_minor": 5
}
