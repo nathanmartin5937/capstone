{
 "cells": [
  {
   "cell_type": "code",
   "execution_count": null,
   "id": "9995ed83",
   "metadata": {},
   "outputs": [],
   "source": [
    "import pandas as pd\n",
    "import numpy as np\n",
    "import matplotlib.pyplot as plt\n",
    "import seaborn as sns\n",
    "from datetime import date\n",
    "from qbstyles import mpl_style\n"
   ]
  },
  {
   "cell_type": "code",
   "execution_count": null,
   "id": "798c44d4",
   "metadata": {},
   "outputs": [],
   "source": [
    "def plot(dark):\n",
    "    mpl_style(dark)"
   ]
  },
  {
   "cell_type": "code",
   "execution_count": null,
   "id": "1547e7a4",
   "metadata": {},
   "outputs": [],
   "source": [
    "venue_df = pd.read_csv('../data/venue_clean.csv')\n",
    "venue_df"
   ]
  },
  {
   "cell_type": "code",
   "execution_count": null,
   "id": "a6019a26",
   "metadata": {},
   "outputs": [],
   "source": [
    "#venue_df = venue_df['Date'] \n",
    "dt = date.fromtimestamp(str(venue_df['Date']))\n",
    "#venue_df"
   ]
  },
  {
   "cell_type": "code",
   "execution_count": null,
   "id": "04426f65",
   "metadata": {
    "scrolled": true
   },
   "outputs": [],
   "source": [
    "concert_year = venue_df.groupby(['Year', 'Location'], as_index=False,).agg({'Concerts':'sum'})\n",
    "concert_year"
   ]
  },
  {
   "cell_type": "code",
   "execution_count": null,
   "id": "25c4fb95",
   "metadata": {},
   "outputs": [],
   "source": [
    "month = concert_year[concert_year['Year'].isin([2017, 2018, 2019, 2020, 2021, 2022])]\n",
    "chicago = year[year['Location'].isin(['Chicago, Illinois, United States'])]\n",
    "detroit = year[year['Location'].isin(['Detroit, Michigan, United States'])]\n",
    "new_york = year[year['Location'].isin(['New York, New York, United States'])]\n",
    "berlin = year[year['Location'].isin(['Berlin, Berlin, Germany'])]\n",
    "england = year[year['Location'].isin(['Nottingham, England, United Kingdom'])]\t\n",
    "osaka = year[year['Location'].isin(['Osaka, Ōsaka, Japan'])]\n",
    "sydney = year[year['Location'].isin(['Sydney, New South Wales, Australia'])]"
   ]
  },
  {
   "cell_type": "code",
   "execution_count": null,
   "id": "ed43ea2f",
   "metadata": {},
   "outputs": [],
   "source": [
    "plt.subplots(figsize=(10,8))\n",
    "plt.plot(chicago.Year, chicago.Concerts, color=\"Blue\")\n",
    "plt.plot(detroit.Year, detroit.Concerts, color=\"Green\")\n",
    "plt.plot(new_york.Year, new_york.Concerts, color=\"Purple\")\n",
    "plt.plot(berlin.Year, berlin.Concerts, color=\"Red\")\n",
    "plt.plot(england.Year, england.Concerts, color=\"Orange\")\n",
    "plt.plot(sydney.Year, sydney.Concerts, color=\"Yellow\")\n",
    "plt.title('Concerts by Year', fontsize=20, fontstyle='oblique')\n",
    "plt.xlabel('Year', fontsize=20, fontstyle='oblique')\n",
    "plt.ylabel('Concerts', fontsize=20, fontstyle='oblique')\n",
    "plt.legend([\"Chicago\", \"Detroit\", \"New York\", \"Berlin\", \"England\", 'Sydney'])\n",
    "plt.show()"
   ]
  },
  {
   "cell_type": "code",
   "execution_count": null,
   "id": "cd180c01",
   "metadata": {},
   "outputs": [],
   "source": [
    "plt.style.available"
   ]
  },
  {
   "cell_type": "markdown",
   "id": "657d9320",
   "metadata": {},
   "source": [
    "Bar chart: Top artist with most venues"
   ]
  },
  {
   "cell_type": "code",
   "execution_count": null,
   "id": "22b6f94a",
   "metadata": {
    "scrolled": true
   },
   "outputs": [],
   "source": [
    "venue_df"
   ]
  },
  {
   "cell_type": "code",
   "execution_count": null,
   "id": "27f0aae5",
   "metadata": {},
   "outputs": [],
   "source": [
    "artist_concert = venue_df.groupby(['Year', 'Artist'], as_index=False,).agg({'Concerts':'count'})\n",
    "artist_concert"
   ]
  },
  {
   "cell_type": "code",
   "execution_count": null,
   "id": "64a772cd",
   "metadata": {},
   "outputs": [],
   "source": [
    "artist_concert = artist_concert[artist_concert.Year != 2019]\n",
    "artist_concert = artist_concert[artist_concert.Year != 2018]\n",
    "artist_concert = artist_concert[artist_concert.Year != 2017]\n",
    "artist_concert"
   ]
  },
  {
   "cell_type": "code",
   "execution_count": null,
   "id": "53ba2f06",
   "metadata": {},
   "outputs": [],
   "source": [
    "artist_concert = artist_concert.sort_values('Concerts').tail(5)\n",
    "artist_concert"
   ]
  },
  {
   "cell_type": "code",
   "execution_count": null,
   "id": "0202c2a8",
   "metadata": {},
   "outputs": [],
   "source": [
    "artist_concert = artist_concert.replace({\"Don Broco / Noisy / Kid Brunswick\":\"Don Broco\",\n",
    "                        \"Harry Styles / Jessie Ware\":\"Harry Styles\",\n",
    "                        \"Rage Against The Machine / Run the Jewels\":\"Rage Against The Machine\"})"
   ]
  },
  {
   "cell_type": "code",
   "execution_count": null,
   "id": "2c6ae85e",
   "metadata": {},
   "outputs": [],
   "source": [
    "plt.subplots(figsize=(10,8))\n",
    "plt.bar(artist_concert.Artist, artist_concert.Concerts, color=['Teal', 'Teal', 'Teal', 'Navy', 'Blue'])\n",
    "plt.title('Top 5 Artist During Covid', fontsize=20, fontstyle='oblique')\n",
    "plt.xlabel('Year', fontsize=20, fontstyle='oblique')\n",
    "plt.ylabel('Concerts', fontsize=20, fontstyle='oblique')\n",
    "plt.xticks(rotation = 10)\n",
    "plt.show()"
   ]
  },
  {
   "cell_type": "markdown",
   "id": "3aed718b",
   "metadata": {},
   "source": [
    "Pie chart: concert numbers domestic vs overseas\n"
   ]
  },
  {
   "cell_type": "code",
   "execution_count": null,
   "id": "baaa5870",
   "metadata": {},
   "outputs": [],
   "source": [
    "venue_df"
   ]
  },
  {
   "cell_type": "code",
   "execution_count": null,
   "id": "68b9cdad",
   "metadata": {
    "scrolled": true
   },
   "outputs": [],
   "source": [
    "venue_bc = venue_df.groupby(['Country', 'Year'], as_index=False,).agg({'Concerts':'sum'})\n",
    "venue_bc"
   ]
  },
  {
   "cell_type": "code",
   "execution_count": null,
   "id": "08f23b01",
   "metadata": {
    "scrolled": true
   },
   "outputs": [],
   "source": [
    "venue_ac = venue_df.groupby(['Country', 'Year'], as_index=False,).agg({'Concerts':'sum'})\n",
    "venue_ac"
   ]
  },
  {
   "cell_type": "code",
   "execution_count": null,
   "id": "bd088123",
   "metadata": {
    "scrolled": true
   },
   "outputs": [],
   "source": [
    "venue_bc = venue_bc[venue_bc.Year != 2020]\n",
    "venue_bc = venue_bc[venue_bc.Year != 2021]\n",
    "venue_bc = venue_bc[venue_bc.Year != 2022]\n",
    "venue_bc"
   ]
  },
  {
   "cell_type": "code",
   "execution_count": null,
   "id": "ce48d7e8",
   "metadata": {
    "scrolled": true
   },
   "outputs": [],
   "source": [
    "venue_ac = venue_ac[venue_ac.Year != 2019]\n",
    "venue_ac = venue_ac[venue_ac.Year != 2018]\n",
    "venue_ac = venue_ac[venue_ac.Year != 2017]\n",
    "venue_ac"
   ]
  },
  {
   "cell_type": "code",
   "execution_count": null,
   "id": "bb67fc26",
   "metadata": {},
   "outputs": [],
   "source": [
    "venue_bc = venue_bc['Concerts'].mean()\n",
    "venue_bc"
   ]
  },
  {
   "cell_type": "code",
   "execution_count": null,
   "id": "92adf0c0",
   "metadata": {},
   "outputs": [],
   "source": [
    "venue_ac = venue_ac['Concerts'].mean()\n",
    "venue_ac"
   ]
  },
  {
   "cell_type": "code",
   "execution_count": null,
   "id": "8b20d142",
   "metadata": {},
   "outputs": [],
   "source": [
    "venue_ac = int(venue_ac)\n",
    "venue_bc = int(venue_bc)"
   ]
  },
  {
   "cell_type": "code",
   "execution_count": null,
   "id": "ddd91a87",
   "metadata": {},
   "outputs": [],
   "source": [
    "concert = []\n",
    "period = ['Pre Covid', 'During Covid']\n",
    "concert.append(venue_bc)\n",
    "concert.append(venue_ac)\n",
    "venues_concert = pd.DataFrame(list(zip(period, concert)), columns = ['Period', 'Concerts'])\n",
    "venues_concert"
   ]
  },
  {
   "cell_type": "code",
   "execution_count": null,
   "id": "4ab84094",
   "metadata": {},
   "outputs": [],
   "source": [
    "plt.subplots(figsize=(10,8))\n",
    "plt.pie(venues_concert.Concerts, labels = venues_concert.Period, autopct='%.1f%%')\n",
    "plt.title('Concert Average Before and After Covid', fontsize=20, fontstyle='oblique')\n",
    "plt.show()"
   ]
  },
  {
   "cell_type": "code",
   "execution_count": null,
   "id": "05142556",
   "metadata": {},
   "outputs": [],
   "source": []
  }
 ],
 "metadata": {
  "kernelspec": {
   "display_name": "Python 3 (ipykernel)",
   "language": "python",
   "name": "python3"
  },
  "language_info": {
   "codemirror_mode": {
    "name": "ipython",
    "version": 3
   },
   "file_extension": ".py",
   "mimetype": "text/x-python",
   "name": "python",
   "nbconvert_exporter": "python",
   "pygments_lexer": "ipython3",
   "version": "3.9.7"
  }
 },
 "nbformat": 4,
 "nbformat_minor": 5
}
