{
 "cells": [
  {
   "cell_type": "code",
   "execution_count": null,
   "id": "51f99dfe",
   "metadata": {},
   "outputs": [],
   "source": [
    "import pandas as pd\n",
    "import numpy as np\n",
    "import matplotlib.pyplot as plt\n",
    "import seaborn as sns\n",
    "import re"
   ]
  },
  {
   "cell_type": "code",
   "execution_count": null,
   "id": "6614059f",
   "metadata": {},
   "outputs": [],
   "source": [
    "covid_df = pd.read_csv('../data/covid_clean.csv')\n",
    "covid_df"
   ]
  },
  {
   "cell_type": "code",
   "execution_count": null,
   "id": "8489eee6",
   "metadata": {},
   "outputs": [],
   "source": [
    "year_confirmed = covid_df[['Confirmed', 'Year', 'Country/Region', 'Month']]\n",
    "year_confirmed"
   ]
  },
  {
   "cell_type": "code",
   "execution_count": null,
   "id": "b638f188",
   "metadata": {},
   "outputs": [],
   "source": [
    "year_confirmed[\"YM\"] = year_confirmed['Year'].astype(str) +\"0\"+ year_confirmed[\"Month\"].astype(str)\n",
    "year_confirmed"
   ]
  },
  {
   "cell_type": "code",
   "execution_count": null,
   "id": "166856c9",
   "metadata": {},
   "outputs": [],
   "source": [
    "year_confirmed[\"YM\"] = year_confirmed[\"YM\"].replace({'2017012':'201712', '2017011':'201711', '2017010':'201710',\n",
    "                                                  '2018012':'201812', '2018011':'201811', '2018010':'201810',\n",
    "                                                  '2019012':'201912', '2019011':'201911', '2019010':'201910',\n",
    "                                                  '2020012':'202012', '2020011':'202011', '2020010':'202010',\n",
    "                                                  '2021012':'202112', '2021011':'202111', '2021010':'202110',\n",
    "                                                  '2022012':'202212', '2022011':'202211', '2022010':'202210'})\n",
    "\n",
    "year_confirmed"
   ]
  },
  {
   "cell_type": "code",
   "execution_count": null,
   "id": "ba5f9ad6",
   "metadata": {},
   "outputs": [],
   "source": [
    "year_confirmed = year_confirmed.groupby(['YM', 'Country/Region'], as_index=False,).agg({'Confirmed':'sum'})\n",
    "year_confirmed"
   ]
  },
  {
   "cell_type": "code",
   "execution_count": null,
   "id": "facdefcc",
   "metadata": {
    "scrolled": true
   },
   "outputs": [],
   "source": [
    "year = year_confirmed[year_confirmed['YM'].isin(['201703','201706','201709','201712',\n",
    "                                                        '201803','201706','201709','201812',\n",
    "                                                        '201903','201906','201909','201912',\n",
    "                                                        '202003','202006','202009','202012',\n",
    "                                                        '202103','202106','202109','202112',\n",
    "                                                        '202203','202206','202209','202212'])]\n",
    "america = year[year['Country/Region'].isin(['US'])]\n",
    "germany = year[year['Country/Region'].isin(['Germany'])]\n",
    "united_kingdom = year[year['Country/Region'].isin(['United Kingdom'])]\t\n",
    "japan = year[year['Country/Region'].isin(['Japan'])]\n",
    "korea = year[year['Country/Region'].isin(['Korea, South'])]\n",
    "australia = year[year['Country/Region'].isin(['Australia'])]\n",
    "year.sort_values(by=['YM'])\n",
    "year.head(60)"
   ]
  },
  {
   "cell_type": "code",
   "execution_count": null,
   "id": "a3dd550a",
   "metadata": {},
   "outputs": [],
   "source": [
    "plt.subplots(figsize=(10,8))\n",
    "plt.plot(america.YM, america.Confirmed, color=\"Blue\")\n",
    "plt.plot(germany.YM, germany.Confirmed, color=\"Green\")\n",
    "plt.plot(united_kingdom.YM, united_kingdom.Confirmed, color=\"Purple\")\n",
    "plt.plot(japan.YM, japan.Confirmed, color=\"Red\")\n",
    "plt.plot(korea.YM, korea.Confirmed, color=\"Yellow\")\n",
    "plt.plot(australia.YM, australia.Confirmed, color=\"Orange\")\n",
    "plt.title('cases by Year', fontsize=20, fontstyle='oblique')\n",
    "plt.xlabel('Year', fontsize=20, fontstyle='oblique')\n",
    "plt.ylabel('cases', fontsize=20, fontstyle='oblique')\n",
    "plt.legend([\"America\", \"Germany\", \"United Kingdom\", \"Japan\", \"Korea\", \"Australia\"])\n",
    "plt.show()"
   ]
  },
  {
   "cell_type": "code",
   "execution_count": null,
   "id": "b2fdca27",
   "metadata": {},
   "outputs": [],
   "source": [
    "covid_df.head(60)"
   ]
  },
  {
   "cell_type": "code",
   "execution_count": null,
   "id": "d0ccf323",
   "metadata": {
    "scrolled": true
   },
   "outputs": [],
   "source": [
    "covid_21 = covid_21.groupby(['Year'], as_index=False,).agg({'Confirmed':'sum', 'Deaths':'sum'})\n",
    "covid_21"
   ]
  },
  {
   "cell_type": "code",
   "execution_count": null,
   "id": "457d574a",
   "metadata": {},
   "outputs": [],
   "source": [
    "year = covid_21[covid_21['Year'].isin(['2020', '2021', '2022'])]"
   ]
  },
  {
   "cell_type": "code",
   "execution_count": null,
   "id": "ece41d0b",
   "metadata": {},
   "outputs": [],
   "source": [
    "plt.subplots(figsize=(10,8))\n",
    "plt.bar(covid_21.Year, covid_21.Confirmed, color=\"Blue\")\n",
    "plt.bar(covid_21.Year, covid_21.Deaths, color=\"Red\")\n",
    "plt.title('Cases/Deaths by Year', fontsize=20, fontstyle='oblique')\n",
    "plt.xlabel('Month', fontsize=20, fontstyle='oblique')\n",
    "plt.ylabel('Cases/Deaths', fontsize=20, fontstyle='oblique')\n",
    "plt.legend([\"Cases\", \"Deaths\"])\n",
    "plt.xticks(rotation = 30)\n",
    "plt.show()"
   ]
  },
  {
   "cell_type": "markdown",
   "id": "a6963c62",
   "metadata": {},
   "source": [
    "Line chart: sum of cases by Germany, Korea, Australia over the year 2021"
   ]
  },
  {
   "cell_type": "code",
   "execution_count": null,
   "id": "30287680",
   "metadata": {
    "scrolled": true
   },
   "outputs": [],
   "source": [
    "covid_df"
   ]
  },
  {
   "cell_type": "code",
   "execution_count": null,
   "id": "e43670a4",
   "metadata": {},
   "outputs": [],
   "source": [
    "positive_trend = covid_df.groupby(['Year', 'Month', 'Country/Region'], as_index=False,).agg({'Confirmed':'sum'})\n",
    "positive_trend"
   ]
  },
  {
   "cell_type": "code",
   "execution_count": null,
   "id": "0947932f",
   "metadata": {},
   "outputs": [],
   "source": [
    "is_2021 =  positive_trend['Year']==2021\n",
    "is_2021"
   ]
  },
  {
   "cell_type": "code",
   "execution_count": null,
   "id": "fa974315",
   "metadata": {
    "scrolled": true
   },
   "outputs": [],
   "source": [
    "month_2021 = positive_trend[is_2021]\n",
    "month_2021"
   ]
  },
  {
   "cell_type": "code",
   "execution_count": null,
   "id": "bb2f1552",
   "metadata": {},
   "outputs": [],
   "source": [
    "month = month_2021[month_2021['Month'].isin([1,2,3,4,5,6,7,8,9,10,11,12])]\n",
    "germany = month_2021[month_2021['Country/Region'].isin(['Germany'])]\n",
    "korea = month_2021[month_2021['Country/Region'].isin(['Korea, South'])]\n",
    "australia = month_2021[month_2021['Country/Region'].isin(['Australia'])]"
   ]
  },
  {
   "cell_type": "code",
   "execution_count": null,
   "id": "d95a40d8",
   "metadata": {},
   "outputs": [],
   "source": [
    "plt.subplots(figsize=(10,8))\n",
    "plt.plot(germany.Month, germany.Confirmed, color=\"Blue\")\n",
    "plt.plot(korea.Month, korea.Confirmed, color=\"Green\")\n",
    "plt.plot(australia.Month, australia.Confirmed, color=\"Red\")\n",
    "plt.title('Cases in 2021', fontsize=20, fontstyle='oblique')\n",
    "plt.xlabel('Year', fontsize=20, fontstyle='oblique')\n",
    "plt.ylabel('Cases', fontsize=20, fontstyle='oblique')\n",
    "plt.legend([\"Germany\", \"Korea\", \"australia\"])\n",
    "plt.show()"
   ]
  },
  {
   "cell_type": "code",
   "execution_count": null,
   "id": "1de27905",
   "metadata": {},
   "outputs": [],
   "source": []
  }
 ],
 "metadata": {
  "kernelspec": {
   "display_name": "Python 3 (ipykernel)",
   "language": "python",
   "name": "python3"
  },
  "language_info": {
   "codemirror_mode": {
    "name": "ipython",
    "version": 3
   },
   "file_extension": ".py",
   "mimetype": "text/x-python",
   "name": "python",
   "nbconvert_exporter": "python",
   "pygments_lexer": "ipython3",
   "version": "3.9.7"
  }
 },
 "nbformat": 4,
 "nbformat_minor": 5
}
