{
 "cells": [
  {
   "cell_type": "code",
   "execution_count": null,
   "id": "30078273",
   "metadata": {},
   "outputs": [],
   "source": [
    "import requests\n",
    "from urllib.request import Request, urlopen\n",
    "from bs4 import BeautifulSoup as BS\n",
    "import re\n",
    "import pandas as pd\n",
    "import numpy as np"
   ]
  },
  {
   "cell_type": "code",
   "execution_count": null,
   "id": "62e32e0e",
   "metadata": {},
   "outputs": [],
   "source": [
    "#URL'S\n",
    "#japan = 'https://www.boxofficemojo.com/weekend/by-year/?area=JP&ref_=bo_in_table_1'\n",
    "#germany = 'https://www.boxofficemojo.com/weekend/by-year/?area=DE&ref_=bo_in_table_17'\n",
    "#korea = 'https://www.boxofficemojo.com/weekend/by-year/?area=KR&ref_=bo_in_table_4'\n",
    "#united_kingdom = 'https://www.boxofficemojo.com/weekend/by-year/?area=GB&ref_=bo_in_table_3'"
   ]
  },
  {
   "cell_type": "code",
   "execution_count": null,
   "id": "3a41885f",
   "metadata": {},
   "outputs": [],
   "source": [
    "url_japan = 'https://www.boxofficemojo.com/weekend/by-year/?area=JP&ref_=bo_in_table_1'"
   ]
  },
  {
   "cell_type": "code",
   "execution_count": null,
   "id": "0152283c",
   "metadata": {},
   "outputs": [],
   "source": [
    "response = requests.get(url_japan)"
   ]
  },
  {
   "cell_type": "code",
   "execution_count": null,
   "id": "00e9d0da",
   "metadata": {},
   "outputs": [],
   "source": [
    "type(response)"
   ]
  },
  {
   "cell_type": "code",
   "execution_count": null,
   "id": "8be9150e",
   "metadata": {},
   "outputs": [],
   "source": [
    "response.status_code"
   ]
  },
  {
   "cell_type": "code",
   "execution_count": null,
   "id": "6572e6c1",
   "metadata": {},
   "outputs": [],
   "source": [
    "response.text"
   ]
  },
  {
   "cell_type": "code",
   "execution_count": null,
   "id": "042150ec",
   "metadata": {},
   "outputs": [],
   "source": [
    "soup = BS(response.text)\n",
    "type(soup)\n",
    "\n",
    "print(soup.prettify())"
   ]
  },
  {
   "cell_type": "code",
   "execution_count": null,
   "id": "df494ae0",
   "metadata": {
    "scrolled": true
   },
   "outputs": [],
   "source": [
    "japan_22 = pd.read_html('https://www.boxofficemojo.com/weekend/by-year/?area=JP&ref_=bo_in_table_1')\n",
    "japan_22"
   ]
  },
  {
   "cell_type": "code",
   "execution_count": null,
   "id": "f41f3394",
   "metadata": {
    "scrolled": true
   },
   "outputs": [],
   "source": [
    "germany_22 = pd.read_html('https://www.boxofficemojo.com/weekend/by-year/?area=DE&ref_=bo_in_table_17')\n",
    "germany_22"
   ]
  },
  {
   "cell_type": "code",
   "execution_count": null,
   "id": "cf0ee07e",
   "metadata": {
    "scrolled": true
   },
   "outputs": [],
   "source": [
    "korea_22 = pd.read_html('https://www.boxofficemojo.com/weekend/by-year/?area=KR&ref_=bo_in_table_4')\n",
    "korea_22"
   ]
  },
  {
   "cell_type": "code",
   "execution_count": null,
   "id": "1843f09c",
   "metadata": {},
   "outputs": [],
   "source": [
    "korea_df = korea_22[0]\n",
    "korea = pd.DataFrame(korea_df)\n",
    "korea"
   ]
  },
  {
   "cell_type": "code",
   "execution_count": null,
   "id": "ea9319f9",
   "metadata": {
    "scrolled": true
   },
   "outputs": [],
   "source": [
    "uk_22 = pd.read_html('https://www.boxofficemojo.com/weekend/by-year/?area=GB&ref_=bo_in_table_3')\n",
    "uk_22"
   ]
  },
  {
   "cell_type": "code",
   "execution_count": null,
   "id": "db5ab1ae",
   "metadata": {},
   "outputs": [],
   "source": [
    "country = ['uk']\n",
    "uk_22['country'] = country"
   ]
  },
  {
   "cell_type": "code",
   "execution_count": null,
   "id": "507b12ef",
   "metadata": {},
   "outputs": [],
   "source": [
    "uk_df = uk_22[0]\n",
    "uk = pd.DataFrame(uk_df)\n",
    "uk"
   ]
  },
  {
   "cell_type": "code",
   "execution_count": null,
   "id": "c1d9dc91",
   "metadata": {},
   "outputs": [],
   "source": [
    "frames = [uk, korea]\n",
    "  \n",
    "result = pd.concat(frames)\n",
    "display(result)"
   ]
  },
  {
   "cell_type": "code",
   "execution_count": null,
   "id": "bb47fbfc",
   "metadata": {},
   "outputs": [],
   "source": []
  }
 ],
 "metadata": {
  "kernelspec": {
   "display_name": "Python 3 (ipykernel)",
   "language": "python",
   "name": "python3"
  },
  "language_info": {
   "codemirror_mode": {
    "name": "ipython",
    "version": 3
   },
   "file_extension": ".py",
   "mimetype": "text/x-python",
   "name": "python",
   "nbconvert_exporter": "python",
   "pygments_lexer": "ipython3",
   "version": "3.9.7"
  }
 },
 "nbformat": 4,
 "nbformat_minor": 5
}
