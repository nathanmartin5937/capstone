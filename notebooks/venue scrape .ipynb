{
 "cells": [
  {
   "cell_type": "code",
   "execution_count": null,
   "id": "76857819",
   "metadata": {},
   "outputs": [],
   "source": [
    "import requests\n",
    "from urllib.request import Request, urlopen\n",
    "from bs4 import BeautifulSoup as BS\n",
    "import re\n",
    "import pandas as pd"
   ]
  },
  {
   "cell_type": "code",
   "execution_count": null,
   "id": "06ba6c61",
   "metadata": {},
   "outputs": [],
   "source": [
    "url = 'https://www.concertarchives.org/venues/madison-square-garden--4?page=1#concert-table'"
   ]
  },
  {
   "cell_type": "code",
   "execution_count": null,
   "id": "30247519",
   "metadata": {},
   "outputs": [],
   "source": [
    "req = Request(url , headers={'User-Agent': 'Mozilla/5.0'})"
   ]
  },
  {
   "cell_type": "code",
   "execution_count": null,
   "id": "e57f9c92",
   "metadata": {},
   "outputs": [],
   "source": [
    "webpage = urlopen(req).read()\n",
    "page_soup = BS(webpage, \"html.parser\")"
   ]
  },
  {
   "cell_type": "code",
   "execution_count": null,
   "id": "7be80c33",
   "metadata": {},
   "outputs": [],
   "source": [
    "type(page_soup)\n"
   ]
  },
  {
   "cell_type": "code",
   "execution_count": null,
   "id": "fa664342",
   "metadata": {},
   "outputs": [],
   "source": [
    "print(page_soup)"
   ]
  },
  {
   "cell_type": "code",
   "execution_count": null,
   "id": "d22d5009",
   "metadata": {},
   "outputs": [],
   "source": [
    "str_page = page_soup.findAll(\"span\", class_=\"\")\n",
    "inner_soup = BS(str(str_page), \"html.parser\")"
   ]
  },
  {
   "cell_type": "code",
   "execution_count": null,
   "id": "1d9887bd",
   "metadata": {},
   "outputs": [],
   "source": [
    "spans = inner_soup.findAll(\"span\", class_=\"\")\n",
    "\n",
    "def CleanHTML(spans):\n",
    "    res = str(spans)\n",
    "    res = re.sub('<span>', '', res)\n",
    "    res = re.sub('</span>', '', res)\n",
    "    res = re.sub('<strong>', '', res)\n",
    "    res = re.sub('</strong>', '', res)\n",
    "    res = re.sub('<span class=\"\">', '', res)\n",
    "    res = re.sub('\\n', '', res)\n",
    "    res = re.sub('</a>', '', res)\n",
    "    res = re.split(\">\", res)[-1]\n",
    "    \n",
    "    return res"
   ]
  },
  {
   "cell_type": "code",
   "execution_count": null,
   "id": "af9812f5",
   "metadata": {
    "scrolled": true
   },
   "outputs": [],
   "source": [
    "#main_index = 0\n",
    "#for x in range(100):\n",
    "    #main_index += 1\n",
    "    #response = requests.get(url + str(main_index))\n",
    "for page in range(1,10):\n",
    "    \n",
    "    for i in range(4,19):\n",
    "        if page>1:\n",
    "            print(f\"{(i-3)+page*15}\" + titles[i].text)\n",
    "        else:\n",
    "            print(f\"{i-3}\" + spans[i].text)\n",
    "\n",
    "        #spans = inner_soup.findAll(\"span\", class_=\"\")\n",
    "        new_index = 0\n",
    "        year = []\n",
    "        artist = []\n",
    "        venue = []\n",
    "        location = []\n",
    "        for span in spans:\n",
    "            new_index += 1\n",
    "            if new_index == 1:\n",
    "                year += [(CleanHTML(span))]\n",
    "                print(CleanHTML(span))\n",
    "            elif new_index == 2:\n",
    "                artist += [(CleanHTML(span))]\n",
    "                print(CleanHTML(span))\n",
    "            elif new_index == 3:\n",
    "                venue += [(CleanHTML(span))]\n",
    "                print(CleanHTML(span))\n",
    "            elif new_index == 4:\n",
    "                location += [(CleanHTML(span))]\n",
    "                print(CleanHTML(span))\n",
    "                new_index = 0 \n",
    "\n",
    "info_df = pd.DataFrame(list(zip(year, artist, venue, location)), \n",
    "                       columns =['year', 'artist', 'venue', 'location'])"
   ]
  },
  {
   "cell_type": "code",
   "execution_count": null,
   "id": "fa851b2f",
   "metadata": {
    "scrolled": false
   },
   "outputs": [],
   "source": [
    "info_df"
   ]
  },
  {
   "cell_type": "code",
   "execution_count": null,
   "id": "5c750b0c",
   "metadata": {},
   "outputs": [],
   "source": []
  }
 ],
 "metadata": {
  "kernelspec": {
   "display_name": "Python 3 (ipykernel)",
   "language": "python",
   "name": "python3"
  },
  "language_info": {
   "codemirror_mode": {
    "name": "ipython",
    "version": 3
   },
   "file_extension": ".py",
   "mimetype": "text/x-python",
   "name": "python",
   "nbconvert_exporter": "python",
   "pygments_lexer": "ipython3",
   "version": "3.9.7"
  }
 },
 "nbformat": 4,
 "nbformat_minor": 5
}
