{
 "cells": [
  {
   "cell_type": "code",
   "execution_count": null,
   "id": "ff574cee",
   "metadata": {},
   "outputs": [],
   "source": [
    "import pandas as pd\n",
    "import numpy as np\n",
    "import matplotlib.pyplot as plt\n",
    "import seaborn as sns\n",
    "import re"
   ]
  },
  {
   "cell_type": "code",
   "execution_count": null,
   "id": "cf139264",
   "metadata": {},
   "outputs": [],
   "source": [
    "covid_df = pd.read_csv('../data/covid_data.csv')\n",
    "covid_df"
   ]
  },
  {
   "cell_type": "code",
   "execution_count": null,
   "id": "3b48555e",
   "metadata": {},
   "outputs": [],
   "source": [
    "covid_df = covid_df.replace(np.nan, '', regex=True)\n",
    "covid_df"
   ]
  },
  {
   "cell_type": "code",
   "execution_count": null,
   "id": "928691d0",
   "metadata": {},
   "outputs": [],
   "source": [
    "covid_df['Year'] = covid_df['Date'].str[5:]\n",
    "covid_df"
   ]
  },
  {
   "cell_type": "code",
   "execution_count": null,
   "id": "c6812255",
   "metadata": {},
   "outputs": [],
   "source": [
    "covid_df.to_csv('covid_clean.csv')\n",
    "covid_df.to_csv('C:/Users/natha/Documents/NSS/Projects/capstone_3/data/covid_clean.csv')"
   ]
  },
  {
   "cell_type": "code",
   "execution_count": null,
   "id": "822b4d4c",
   "metadata": {},
   "outputs": [],
   "source": [
    "year_confirmed = covid_df.groupby(['Year', 'Country/Region'], as_index=False,).agg({'Confirmed':'sum'})\n",
    "year_confirmed"
   ]
  },
  {
   "cell_type": "code",
   "execution_count": null,
   "id": "27914a13",
   "metadata": {},
   "outputs": [],
   "source": [
    "year = year_confirmed[year_confirmed['Year'].isin(['2020', '2021', '2022'])]\n",
    "america = year[year['Country/Region'].isin(['US'])]\n",
    "germany = year[year['Country/Region'].isin(['Germany'])]\n",
    "united_kingdom = year[year['Country/Region'].isin(['United Kingdom'])]\n",
    "japan = year[year['Country/Region'].isin(['Japan'])]\n",
    "korea = year[year['Country/Region'].isin(['Korea, South'])]\n",
    "canada = year[year['Country/Region'].isin(['Canada'])]"
   ]
  },
  {
   "cell_type": "code",
   "execution_count": null,
   "id": "083aefd8",
   "metadata": {},
   "outputs": [],
   "source": [
    "plt.subplots(figsize=(10,8))\n",
    "plt.plot(america.Year, america.Confirmed, color=\"Blue\")\n",
    "plt.plot(germany.Year, germany.Confirmed, color=\"Green\")\n",
    "plt.plot(united_kingdom.Year, united_kingdom.Confirmed, color=\"Purple\")\n",
    "plt.plot(japan.Year, japan.Confirmed, color=\"Red\")\n",
    "plt.plot(korea.Year, korea.Confirmed, color=\"Yellow\")\n",
    "plt.plot(canada.Year, canada.Confirmed, color=\"Orange\")\n",
    "plt.title('cases by Year', fontsize=20, fontstyle='oblique')\n",
    "plt.xlabel('Year', fontsize=20, fontstyle='oblique')\n",
    "plt.ylabel('cases', fontsize=20, fontstyle='oblique')\n",
    "plt.legend([\"America\", \"Germany\", \"United Kingdom\", \"Japan\", \"Korea\", \"Canada\"])\n",
    "plt.show()"
   ]
  },
  {
   "cell_type": "code",
   "execution_count": null,
   "id": "6ad7f148",
   "metadata": {},
   "outputs": [],
   "source": []
  }
 ],
 "metadata": {
  "kernelspec": {
   "display_name": "Python 3 (ipykernel)",
   "language": "python",
   "name": "python3"
  },
  "language_info": {
   "codemirror_mode": {
    "name": "ipython",
    "version": 3
   },
   "file_extension": ".py",
   "mimetype": "text/x-python",
   "name": "python",
   "nbconvert_exporter": "python",
   "pygments_lexer": "ipython3",
   "version": "3.9.7"
  }
 },
 "nbformat": 4,
 "nbformat_minor": 5
}
