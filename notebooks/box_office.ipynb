{
 "cells": [
  {
   "cell_type": "code",
   "execution_count": null,
   "id": "1b65f4d8",
   "metadata": {},
   "outputs": [],
   "source": [
    "import pandas as pd\n",
    "import numpy as np\n",
    "import matplotlib.pyplot as plt\n",
    "import seaborn as sns\n",
    "from datetime import datetime\n",
    "import datetime"
   ]
  },
  {
   "cell_type": "markdown",
   "id": "58bd6e49",
   "metadata": {},
   "source": [
    "Reading in csv's"
   ]
  },
  {
   "cell_type": "code",
   "execution_count": null,
   "id": "3cff48e5",
   "metadata": {
    "scrolled": true
   },
   "outputs": [],
   "source": [
    "international_df = pd.read_csv('../data/box_office_international.csv')\n",
    "international_df"
   ]
  },
  {
   "cell_type": "code",
   "execution_count": null,
   "id": "de80573e",
   "metadata": {
    "scrolled": true
   },
   "outputs": [],
   "source": [
    "domestic_df = pd.read_csv('../data/box_office_domestic.csv')\n",
    "domestic_df"
   ]
  },
  {
   "cell_type": "markdown",
   "id": "ba618543",
   "metadata": {},
   "source": [
    "Cleaning data"
   ]
  },
  {
   "cell_type": "code",
   "execution_count": null,
   "id": "dd386d5a",
   "metadata": {},
   "outputs": [],
   "source": [
    "international_df = international_df.drop(['Top 10 Gross', \n",
    "                      '%± LW', '%± LW.1', \n",
    "                      'Genre', 'Budget', \n",
    "                      'Running Time', \n",
    "                      'Week', \n",
    "                      'Long Weekend', \n",
    "                      'Unnamed: 0'], axis = 1)\n",
    "international_df"
   ]
  },
  {
   "cell_type": "code",
   "execution_count": null,
   "id": "499b6fec",
   "metadata": {},
   "outputs": [],
   "source": [
    "domestic_df = domestic_df.drop(['Day', 'Day #', '%± YD', '%± LW', 'Top 10 Gross', 'Unnamed: 0'], axis = 1)\n",
    "domestic_df"
   ]
  },
  {
   "cell_type": "code",
   "execution_count": null,
   "id": "1928ad58",
   "metadata": {},
   "outputs": [],
   "source": [
    "international_df = international_df[['Dates', 'Releases', '#1 Release', 'Overall Gross', 'Year', 'Country']]\n",
    "international_df.rename(columns = {'Dates':'Date', 'Overall Gross':'Gross'}, inplace = True)\n",
    "international_df"
   ]
  },
  {
   "cell_type": "markdown",
   "id": "8fe8ddc1",
   "metadata": {},
   "source": [
    "Concatening data"
   ]
  },
  {
   "cell_type": "code",
   "execution_count": null,
   "id": "47dbfb1b",
   "metadata": {},
   "outputs": [],
   "source": [
    "box_office = [international_df, domestic_df]\n",
    "  \n",
    "box_office_df = pd.concat(box_office)\n",
    "box_office_df"
   ]
  },
  {
   "cell_type": "markdown",
   "id": "8488920d",
   "metadata": {},
   "source": [
    "Creating csv"
   ]
  },
  {
   "cell_type": "code",
   "execution_count": null,
   "id": "0a37a6a3",
   "metadata": {},
   "outputs": [],
   "source": [
    "box_office_df.info()"
   ]
  },
  {
   "cell_type": "code",
   "execution_count": null,
   "id": "f41966bb",
   "metadata": {},
   "outputs": [],
   "source": [
    "box_office_df['Gross'] = (box_office_df['Gross'].replace( '[\\$,)]','', regex=True )\n",
    "               .replace( '[(]','-',   regex=True ).astype(float))"
   ]
  },
  {
   "cell_type": "code",
   "execution_count": null,
   "id": "496c25aa",
   "metadata": {},
   "outputs": [],
   "source": [
    "box_office_df"
   ]
  },
  {
   "cell_type": "code",
   "execution_count": null,
   "id": "8f237bf5",
   "metadata": {},
   "outputs": [],
   "source": [
    "box_office_df['Year'] = box_office_df['Year'].astype(object)"
   ]
  },
  {
   "cell_type": "code",
   "execution_count": null,
   "id": "4c316fe5",
   "metadata": {},
   "outputs": [],
   "source": [
    "box_office_df"
   ]
  },
  {
   "cell_type": "code",
   "execution_count": null,
   "id": "c5d0ba0f",
   "metadata": {},
   "outputs": [],
   "source": [
    "box_office_df['Month'] = box_office_df['Date'].str[:3]\n",
    "box_office_df"
   ]
  },
  {
   "cell_type": "code",
   "execution_count": null,
   "id": "ebb07b8c",
   "metadata": {},
   "outputs": [],
   "source": [
    "box_office_df['Month'] = box_office_df['Month'].astype(str)\n",
    "box_office_df"
   ]
  },
  {
   "cell_type": "code",
   "execution_count": null,
   "id": "4291337c",
   "metadata": {},
   "outputs": [],
   "source": [
    "box_office_df.info()"
   ]
  },
  {
   "cell_type": "code",
   "execution_count": null,
   "id": "eca59787",
   "metadata": {
    "scrolled": false
   },
   "outputs": [],
   "source": [
    "#box_office_df['Month'] = ['Dec' if x == 'Jan' else 1 for x in box_office_df['Month']]\n",
    "#box_office_df\n",
    "box_office_df['Month'] = [1 if x == 'Jan' \n",
    "                          else 2 if x == 'Feb' \n",
    "                          else 3 if x == 'Mar' \n",
    "                          else 4 if x == 'Apr' \n",
    "                          else 5 if x == 'May' \n",
    "                          else 6 if x == 'Jun' \n",
    "                          else 7 if x == 'Jul' \n",
    "                          else 8 if x == 'Aug' \n",
    "                          else 9 if x == 'Sep' \n",
    "                          else 10 if x == 'Oct' \n",
    "                          else 11 if x == 'Nov' \n",
    "                          else 12 if x == 'Dec' \n",
    "                          else ''\n",
    "                          for x in box_office_df['Month']]\n",
    "#box_office_df['Month'] = np.where(box_office_df['Month']=='Jan', 5)\n",
    "box_office_df"
   ]
  },
  {
   "cell_type": "code",
   "execution_count": null,
   "id": "ba2ffa49",
   "metadata": {},
   "outputs": [],
   "source": [
    "#box_office_df.to_csv('box_office.csv')\n",
    "#box_office_df.to_csv('C:/Users/natha/Documents/NSS/Projects/capstone_3/data/box_office.csv')"
   ]
  },
  {
   "cell_type": "markdown",
   "id": "bee26830",
   "metadata": {},
   "source": [
    "Line graph: sum of realeases over the years"
   ]
  },
  {
   "cell_type": "markdown",
   "id": "06270a4e",
   "metadata": {},
   "source": [
    "Creating dataframe for line graph"
   ]
  },
  {
   "cell_type": "code",
   "execution_count": null,
   "id": "7931eba2",
   "metadata": {},
   "outputs": [],
   "source": [
    "box_office_realese = box_office_df[['Releases', 'Year', 'Country']]\n",
    "box_office_realese"
   ]
  },
  {
   "cell_type": "code",
   "execution_count": null,
   "id": "9529f856",
   "metadata": {
    "scrolled": true
   },
   "outputs": [],
   "source": [
    "year_release = box_office_df.groupby(['Year', 'Country'], as_index=False,).agg({'Releases':'sum'})\n",
    "year_release"
   ]
  },
  {
   "cell_type": "code",
   "execution_count": null,
   "id": "feab9b79",
   "metadata": {},
   "outputs": [],
   "source": [
    "year = year_release[year_release['Year'].isin([2017, 2018, 2019, 2020, 2021, 2022])]\n",
    "america = year[year['Country'].isin(['America'])]\n",
    "germany = year[year['Country'].isin(['Germany'])]\n",
    "united_kingdom = year[year['Country'].isin(['United Kingdom'])]\t\n",
    "japan = year[year['Country'].isin(['Japan'])]\n",
    "korea = year[year['Country'].isin(['Korea'])]\n",
    "canada = year[year['Country'].isin(['Canada'])]"
   ]
  },
  {
   "cell_type": "markdown",
   "id": "73f5a954",
   "metadata": {},
   "source": [
    "Line graph: sum of realeases over the years"
   ]
  },
  {
   "cell_type": "code",
   "execution_count": null,
   "id": "0139b213",
   "metadata": {},
   "outputs": [],
   "source": [
    "plt.subplots(figsize=(10,8))\n",
    "plt.plot(america.Year, america.Releases, color=\"Blue\")\n",
    "plt.plot(germany.Year, germany.Releases, color=\"Green\")\n",
    "plt.plot(united_kingdom.Year, united_kingdom.Releases, color=\"Purple\")\n",
    "plt.plot(japan.Year, japan.Releases, color=\"Red\")\n",
    "plt.plot(korea.Year, korea.Releases, color=\"Yellow\")\n",
    "plt.plot(canada.Year, canada.Releases, color=\"Orange\")\n",
    "plt.title('Releases by Year', fontsize=20, fontstyle='oblique')\n",
    "plt.xlabel('Year', fontsize=20, fontstyle='oblique')\n",
    "plt.ylabel('Realeases', fontsize=20, fontstyle='oblique')\n",
    "plt.legend([\"America\", \"Germany\", \"United Kingdom\", \"Japan\", \"Korea\", \"Canada\"])\n",
    "plt.show()"
   ]
  },
  {
   "cell_type": "markdown",
   "id": "79a64ea1",
   "metadata": {},
   "source": [
    "Pie graph: sum of gross between bc, dc, ac."
   ]
  },
  {
   "cell_type": "code",
   "execution_count": null,
   "id": "d12de8f6",
   "metadata": {},
   "outputs": [],
   "source": [
    "box_office_df"
   ]
  },
  {
   "cell_type": "code",
   "execution_count": null,
   "id": "ef5cf303",
   "metadata": {},
   "outputs": [],
   "source": [
    "box_gross = box_office_df.groupby(['Year'], as_index=False,).agg({'Gross':'sum'})\n",
    "box_gross"
   ]
  },
  {
   "cell_type": "code",
   "execution_count": null,
   "id": "9e234e21",
   "metadata": {
    "scrolled": true
   },
   "outputs": [],
   "source": [
    "start_row_21 = 4\n",
    "\n",
    "box_gross.iloc[start_row_21] = box_gross.iloc[start_row_21:].sum()\n",
    "box_gross = box_gross.iloc[:start_row_21+1]\n",
    "box_gross\n",
    "#box_gross_1\n",
    "#box_gross.reset_index().replace({'index':[i for i in range(4,5)]}, {'index':4}).groupby('index', as_index=False).sum()"
   ]
  },
  {
   "cell_type": "code",
   "execution_count": null,
   "id": "66bd1b6e",
   "metadata": {},
   "outputs": [],
   "source": [
    "box_gross.info()"
   ]
  },
  {
   "cell_type": "code",
   "execution_count": null,
   "id": "a30f2e20",
   "metadata": {},
   "outputs": [],
   "source": []
  }
 ],
 "metadata": {
  "kernelspec": {
   "display_name": "Python 3 (ipykernel)",
   "language": "python",
   "name": "python3"
  },
  "language_info": {
   "codemirror_mode": {
    "name": "ipython",
    "version": 3
   },
   "file_extension": ".py",
   "mimetype": "text/x-python",
   "name": "python",
   "nbconvert_exporter": "python",
   "pygments_lexer": "ipython3",
   "version": "3.9.7"
  }
 },
 "nbformat": 4,
 "nbformat_minor": 5
}
