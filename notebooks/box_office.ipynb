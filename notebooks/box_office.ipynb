{
 "cells": [
  {
   "cell_type": "code",
   "execution_count": null,
   "id": "1b65f4d8",
   "metadata": {},
   "outputs": [],
   "source": [
    "import pandas as pd\n",
    "import numpy as np\n",
    "import matplotlib.pyplot as plt\n",
    "import seaborn as sns"
   ]
  },
  {
   "cell_type": "markdown",
   "id": "58bd6e49",
   "metadata": {},
   "source": [
    "Reading in csv's"
   ]
  },
  {
   "cell_type": "code",
   "execution_count": null,
   "id": "3cff48e5",
   "metadata": {
    "scrolled": true
   },
   "outputs": [],
   "source": [
    "international_df = pd.read_csv('../data/box_office_international.csv')\n",
    "international_df"
   ]
  },
  {
   "cell_type": "code",
   "execution_count": null,
   "id": "de80573e",
   "metadata": {
    "scrolled": true
   },
   "outputs": [],
   "source": [
    "domestic_df = pd.read_csv('../data/box_office_domestic.csv')\n",
    "domestic_df"
   ]
  },
  {
   "cell_type": "markdown",
   "id": "ba618543",
   "metadata": {},
   "source": [
    "Cleaning data"
   ]
  },
  {
   "cell_type": "code",
   "execution_count": null,
   "id": "dd386d5a",
   "metadata": {},
   "outputs": [],
   "source": [
    "international_df = international_df.drop(['Top 10 Gross', \n",
    "                      '%± LW', '%± LW.1', \n",
    "                      'Genre', 'Budget', \n",
    "                      'Running Time', \n",
    "                      'Week', \n",
    "                      'Long Weekend', \n",
    "                      'Unnamed: 0'], axis = 1)\n",
    "international_df"
   ]
  },
  {
   "cell_type": "code",
   "execution_count": null,
   "id": "499b6fec",
   "metadata": {},
   "outputs": [],
   "source": [
    "domestic_df = domestic_df.drop(['Day', 'Day #', '%± YD', '%± LW', 'Top 10 Gross', 'Unnamed: 0'], axis = 1)\n",
    "domestic_df"
   ]
  },
  {
   "cell_type": "code",
   "execution_count": null,
   "id": "1928ad58",
   "metadata": {},
   "outputs": [],
   "source": [
    "international_df = international_df[['Dates', 'Releases', '#1 Release', 'Overall Gross', 'Year', 'Country']]\n",
    "international_df.rename(columns = {'Dates':'Date', 'Overall Gross':'Gross'}, inplace = True)\n",
    "international_df"
   ]
  },
  {
   "cell_type": "markdown",
   "id": "8fe8ddc1",
   "metadata": {},
   "source": [
    "Concatening data"
   ]
  },
  {
   "cell_type": "code",
   "execution_count": null,
   "id": "47dbfb1b",
   "metadata": {},
   "outputs": [],
   "source": [
    "box_office = [international_df, domestic_df]\n",
    "  \n",
    "box_office_df = pd.concat(box_office)\n",
    "box_office_df"
   ]
  },
  {
   "cell_type": "markdown",
   "id": "8488920d",
   "metadata": {},
   "source": [
    "Creating csv"
   ]
  },
  {
   "cell_type": "code",
   "execution_count": null,
   "id": "ba2ffa49",
   "metadata": {},
   "outputs": [],
   "source": [
    "box_office_df.to_csv('box_office.csv')\n",
    "box_office_df.to_csv('C:/Users/natha/Documents/NSS/Projects/capstone_3/data/box_office.csv')"
   ]
  },
  {
   "cell_type": "markdown",
   "id": "bee26830",
   "metadata": {},
   "source": [
    "Line graph: sum of realeases over the years"
   ]
  },
  {
   "cell_type": "markdown",
   "id": "06270a4e",
   "metadata": {},
   "source": [
    "Creating dataframe for line graph"
   ]
  },
  {
   "cell_type": "code",
   "execution_count": null,
   "id": "7931eba2",
   "metadata": {},
   "outputs": [],
   "source": [
    "box_office_realese = box_office_df[['Releases', 'Year', 'Country']]\n",
    "box_office_realese"
   ]
  },
  {
   "cell_type": "code",
   "execution_count": null,
   "id": "9529f856",
   "metadata": {
    "scrolled": true
   },
   "outputs": [],
   "source": [
    "year_release = box_office_df.groupby(['Year', 'Country'], as_index=False,).agg({'Releases':'sum'})\n",
    "year_release"
   ]
  },
  {
   "cell_type": "code",
   "execution_count": null,
   "id": "feab9b79",
   "metadata": {},
   "outputs": [],
   "source": [
    "year = year_release[year_release['Year'].isin([2017, 2018, 2019, 2020, 2021, 2022])]\n",
    "america = year[year['Country'].isin(['America'])]\n",
    "germany = year[year['Country'].isin(['Germany'])]\n",
    "united_kingdom = year[year['Country'].isin(['United Kingdom'])]\t\n",
    "japan = year[year['Country'].isin(['Japan'])]\n",
    "korea = year[year['Country'].isin(['Korea'])]\n",
    "canada = year[year['Country'].isin(['Canada'])]"
   ]
  },
  {
   "cell_type": "markdown",
   "id": "73f5a954",
   "metadata": {},
   "source": [
    "Line graph: sum of realeases over the years"
   ]
  },
  {
   "cell_type": "code",
   "execution_count": null,
   "id": "0139b213",
   "metadata": {},
   "outputs": [],
   "source": [
    "plt.subplots(figsize=(10,8))\n",
    "plt.plot(america.Year, america.Releases, color=\"Blue\")\n",
    "plt.plot(germany.Year, germany.Releases, color=\"Green\")\n",
    "plt.plot(united_kingdom.Year, united_kingdom.Releases, color=\"Purple\")\n",
    "plt.plot(japan.Year, japan.Releases, color=\"Red\")\n",
    "plt.plot(korea.Year, korea.Releases, color=\"Yellow\")\n",
    "plt.plot(canada.Year, canada.Releases, color=\"Orange\")\n",
    "plt.title('Releases by Year', fontsize=20, fontstyle='oblique')\n",
    "plt.xlabel('Year', fontsize=20, fontstyle='oblique')\n",
    "plt.ylabel('Realeases', fontsize=20, fontstyle='oblique')\n",
    "plt.legend([\"America\", \"Germany\", \"United Kingdom\", \"Japan\", \"Korea\", \"Canada\"])\n",
    "plt.show()"
   ]
  },
  {
   "cell_type": "markdown",
   "id": "c20dbb48",
   "metadata": {},
   "source": [
    "Line graph: sum of realeases and confirmed cases over the years"
   ]
  },
  {
   "cell_type": "markdown",
   "id": "7831ec54",
   "metadata": {},
   "source": [
    "Creating box office dataframe for line graph "
   ]
  },
  {
   "cell_type": "code",
   "execution_count": null,
   "id": "a9fa92ea",
   "metadata": {},
   "outputs": [],
   "source": [
    "box_release_total = box_office_df.groupby(['Year'], as_index=False,).agg({'Releases':'sum'})\n",
    "box_release_total"
   ]
  },
  {
   "cell_type": "markdown",
   "id": "1b61a16b",
   "metadata": {},
   "source": [
    "Creating covid dataframe for line graph"
   ]
  },
  {
   "cell_type": "code",
   "execution_count": null,
   "id": "eaf5153b",
   "metadata": {},
   "outputs": [],
   "source": [
    "covid_df = pd.read_csv('../data/covid_data.csv')\n",
    "covid_df"
   ]
  },
  {
   "cell_type": "code",
   "execution_count": null,
   "id": "d1880245",
   "metadata": {},
   "outputs": [],
   "source": [
    "covid_case_total = covid_df.groupby(['Year'], as_index=False,).agg({'Confirmed':'sum'})\n",
    "covid_case_total"
   ]
  },
  {
   "cell_type": "markdown",
   "id": "15ac0e30",
   "metadata": {},
   "source": [
    "concatenating both dataframes"
   ]
  },
  {
   "cell_type": "code",
   "execution_count": null,
   "id": "a3775c79",
   "metadata": {},
   "outputs": [],
   "source": [
    "box_covid_total = [box_release_total, covid_case_total]\n",
    "  \n",
    "box_covid_total = pd.concat(box_covid_total)\n",
    "box_covid_total"
   ]
  },
  {
   "cell_type": "markdown",
   "id": "847e9b32",
   "metadata": {},
   "source": [
    "Cleaning data"
   ]
  },
  {
   "cell_type": "code",
   "execution_count": null,
   "id": "96a6a01a",
   "metadata": {},
   "outputs": [],
   "source": [
    "box_covid_total[\"Covid\"] = box_covid_total['Confirmed'].shift(periods=-3)\n",
    "box_covid_total"
   ]
  },
  {
   "cell_type": "code",
   "execution_count": null,
   "id": "72889fc7",
   "metadata": {},
   "outputs": [],
   "source": [
    "box_covid_total = box_covid_total.drop(['Confirmed'], axis = 1)\n",
    "box_covid_total"
   ]
  },
  {
   "cell_type": "code",
   "execution_count": null,
   "id": "15142ff6",
   "metadata": {},
   "outputs": [],
   "source": [
    "box_covid_total['Releases'] = box_covid_total['Releases'].fillna(0)\n",
    "box_covid_total['Covid'] = box_covid_total['Covid'].fillna(0)\n",
    "box_covid_total"
   ]
  },
  {
   "cell_type": "code",
   "execution_count": null,
   "id": "9fecd4da",
   "metadata": {},
   "outputs": [],
   "source": [
    "box_covid_total.rename(columns = {'Releases':'Box Office'}, inplace = True)\n",
    "box_covid_total"
   ]
  },
  {
   "cell_type": "code",
   "execution_count": null,
   "id": "1a4c9139",
   "metadata": {},
   "outputs": [],
   "source": [
    "N = 3\n",
    "box_covid_total = box_covid_total.head(box_covid_total.shape[0] -N)\n",
    "box_covid_total"
   ]
  },
  {
   "cell_type": "code",
   "execution_count": null,
   "id": "70f551be",
   "metadata": {},
   "outputs": [],
   "source": [
    "year = box_covid_total[box_covid_total['Year'].isin([2017, 2018, 2019, 2020, 2021, 2022])]\n",
    "year = range(len(year))"
   ]
  },
  {
   "cell_type": "markdown",
   "id": "f65d53e1",
   "metadata": {},
   "source": [
    "Line graph: sum of realeases and confirmed cases over the years"
   ]
  },
  {
   "cell_type": "code",
   "execution_count": null,
   "id": "24f57530",
   "metadata": {},
   "outputs": [],
   "source": [
    "box = box_covid_total['Box Office']\n",
    "covid = box_covid_total['Covid']\n",
    "year = box_covid_total['Year']\n",
    "plt.subplots(figsize=(10,8))\n",
    "plt.plot(year, covid, box)\n",
    "plt.title('Pumkin Weight', fontsize=20, fontstyle='oblique')\n",
    "plt.xticks(rotation = 70)\n",
    "plt.show()\n",
    "\n"
   ]
  },
  {
   "cell_type": "code",
   "execution_count": null,
   "id": "f4d6b120",
   "metadata": {},
   "outputs": [],
   "source": []
  }
 ],
 "metadata": {
  "kernelspec": {
   "display_name": "Python 3 (ipykernel)",
   "language": "python",
   "name": "python3"
  },
  "language_info": {
   "codemirror_mode": {
    "name": "ipython",
    "version": 3
   },
   "file_extension": ".py",
   "mimetype": "text/x-python",
   "name": "python",
   "nbconvert_exporter": "python",
   "pygments_lexer": "ipython3",
   "version": "3.9.7"
  }
 },
 "nbformat": 4,
 "nbformat_minor": 5
}
