{
 "cells": [
  {
   "cell_type": "code",
   "execution_count": null,
   "id": "9b33064e",
   "metadata": {},
   "outputs": [],
   "source": [
    "import pandas as pd\n",
    "import numpy as np\n",
    "import matplotlib.pyplot as plt\n",
    "import seaborn as sns\n",
    "from datetime import datetime\n",
    "import datetime"
   ]
  },
  {
   "cell_type": "code",
   "execution_count": null,
   "id": "d5065403",
   "metadata": {},
   "outputs": [],
   "source": [
    "box_office_df = pd.read_csv('../data/box_office_clean.csv')\n",
    "box_office_df"
   ]
  },
  {
   "cell_type": "code",
   "execution_count": null,
   "id": "bb2c6eaf",
   "metadata": {},
   "outputs": [],
   "source": [
    "box_office_df = box_office_df.drop(['Unnamed: 0'], axis = 1)\n",
    "box_office_df"
   ]
  },
  {
   "cell_type": "markdown",
   "id": "9bd6176d",
   "metadata": {},
   "source": [
    "Line graph: sum of realeases over the years"
   ]
  },
  {
   "cell_type": "code",
   "execution_count": null,
   "id": "aec6310e",
   "metadata": {
    "scrolled": true
   },
   "outputs": [],
   "source": [
    "box_office_df"
   ]
  },
  {
   "cell_type": "code",
   "execution_count": null,
   "id": "8ccfec72",
   "metadata": {},
   "outputs": [],
   "source": [
    "box_office_realese = box_office_df[['Releases', 'Year', 'Country', 'Month']]\n",
    "box_office_realese"
   ]
  },
  {
   "cell_type": "code",
   "execution_count": null,
   "id": "7396864f",
   "metadata": {
    "scrolled": true
   },
   "outputs": [],
   "source": [
    "box_office_realese[\"YM\"] = box_office_realese['Year'].astype(str) +\"0\"+ box_office_realese[\"Month\"].astype(str)\n",
    "#box_office_realese[\"YM\"] = box_office_realese['Year'].astype(str) +\"0\"+ box_office_realese[\"Month\"].astype(str)\n",
    "box_office_realese"
   ]
  },
  {
   "cell_type": "code",
   "execution_count": null,
   "id": "e70cd007",
   "metadata": {
    "scrolled": true
   },
   "outputs": [],
   "source": [
    "box_office_realese[\"YM\"] = box_office_realese[\"YM\"].replace({'2017012':'201712', '2017011':'201711', '2017010':'201710',\n",
    "                                                  '2018012':'201812', '2018011':'201811', '2018010':'201810',\n",
    "                                                  '2019012':'201912', '2019011':'201911', '2019010':'201910',\n",
    "                                                  '2020012':'202012', '2020011':'202011', '2020010':'202010',\n",
    "                                                  '2021012':'202112', '2021011':'202111', '2021010':'202110',\n",
    "                                                  '2022012':'202212', '2022011':'202211', '2022010':'202210'})\n",
    "\n",
    "box_office_realese.head(60)"
   ]
  },
  {
   "cell_type": "code",
   "execution_count": null,
   "id": "e89f09de",
   "metadata": {},
   "outputs": [],
   "source": [
    "box_office_realese[\"YM\"] = box_office_realese['YM'].astype(int)"
   ]
  },
  {
   "cell_type": "code",
   "execution_count": null,
   "id": "177008cc",
   "metadata": {
    "scrolled": true
   },
   "outputs": [],
   "source": [
    "box_office_realese = box_office_realese.groupby(['YM', 'Country'], as_index=False,).agg({'Releases':'sum'})\n",
    "box_office_realese.head(60)"
   ]
  },
  {
   "cell_type": "code",
   "execution_count": null,
   "id": "865d2237",
   "metadata": {
    "scrolled": true
   },
   "outputs": [],
   "source": [
    "year = box_office_realese[box_office_realese['YM'].isin(['201703','201706','201709','201712',\n",
    "                                                        '201803','201706','201709','201812',\n",
    "                                                        '201903','201906','201909','201912',\n",
    "                                                        '202003','202006','202009','202012',\n",
    "                                                        '202103','202106','202109','202112',\n",
    "                                                        '202203','202206','202209','202212'])]\n",
    "america = year[year['Country'].isin(['America'])]\n",
    "germany = year[year['Country'].isin(['Germany'])]\n",
    "united_kingdom = year[year['Country'].isin(['United Kingdom'])]\t\n",
    "japan = year[year['Country'].isin(['Japan'])]\n",
    "korea = year[year['Country'].isin(['Korea'])]\n",
    "australia = year[year['Country'].isin(['Australia'])]\n",
    "year.sort_values(by=['YM'])\n",
    "year.head(60)"
   ]
  },
  {
   "cell_type": "code",
   "execution_count": null,
   "id": "ae11fd37",
   "metadata": {},
   "outputs": [],
   "source": [
    "year"
   ]
  },
  {
   "cell_type": "code",
   "execution_count": null,
   "id": "cebbb37c",
   "metadata": {},
   "outputs": [],
   "source": [
    "plt.subplots(figsize=(10,8))\n",
    "plt.plot(america.YM, america.Releases, color=\"Blue\")\n",
    "plt.plot(germany.YM, germany.Releases, color=\"Green\")\n",
    "plt.plot(united_kingdom.YM, united_kingdom.Releases, color=\"Purple\")\n",
    "plt.plot(japan.YM, japan.Releases, color=\"Red\")\n",
    "plt.plot(korea.YM, korea.Releases, color=\"Yellow\")\n",
    "plt.plot(australia.YM, australia.Releases, color=\"Orange\")\n",
    "plt.title('Releases by Year', fontsize=20, fontstyle='oblique')\n",
    "plt.xlabel('Year', fontsize=20, fontstyle='oblique')\n",
    "plt.ylabel('Realeases', fontsize=20, fontstyle='oblique')\n",
    "plt.legend([\"America\", \"Germany\", \"United Kingdom\", \"Japan\", \"Korea\", \"Australia\"])\n",
    "plt.xticks(rotation=45)\n",
    "plt.show()"
   ]
  },
  {
   "cell_type": "markdown",
   "id": "fc12e133",
   "metadata": {},
   "source": [
    "Sum of releases America, Australia for year 2021 by season"
   ]
  },
  {
   "cell_type": "code",
   "execution_count": null,
   "id": "a821ab34",
   "metadata": {},
   "outputs": [],
   "source": [
    "box_office_df"
   ]
  },
  {
   "cell_type": "code",
   "execution_count": null,
   "id": "d8f004eb",
   "metadata": {},
   "outputs": [],
   "source": [
    "month_release[\"YM\"] = box_office_df['Year'].astype(str) +\"/\"+ box_office_df[\"Month\"].astype(str)\n",
    "month_release"
   ]
  },
  {
   "cell_type": "code",
   "execution_count": null,
   "id": "ba533a73",
   "metadata": {},
   "outputs": [],
   "source": [
    "month_release['YMnum'] = [1 if x == '2021/1'\n",
    "                          else 2 if x == '2021/1'\n",
    "                          else 3 if x == '2021/2'\n",
    "                          else 4 if x == '2021/3'\n",
    "                          else 5 if x == '2021/4'\n",
    "                          else 6 if x == '2021/5'\n",
    "                          else 7 if x == '2021/6'\n",
    "                          else 8 if x == '2021/7'\n",
    "                          else 9 if x == '2021/8'\n",
    "                          else 10 if x == '2021/9'\n",
    "                          else 11 if x == '2021/10'\n",
    "                          else 12 if x == '2021/11'\n",
    "                          else 13 if x == '2021/12'\n",
    "                          else 14 if x == '2022/1'\n",
    "                          else 15 if x == '2022/2'\n",
    "                          else 16 if x == '2022/3'\n",
    "                          else 17 if x == '2022/4'\n",
    "                          else 18 if x == '2022/5'\n",
    "                          else 19 if x == '2022/6'\n",
    "                          else 20 if x == '2022/7'\n",
    "                          else 21 if x == '2022/8'\n",
    "                          else 22 if x == '2022/9'\n",
    "                          else 23 if x == '2022/10'\n",
    "                          else 24 if x == '2022/11'\n",
    "                          else 25 if x == '2022/12'\n",
    "                          else ''\n",
    "                          for x in month_release['YM']]\n",
    "month_release"
   ]
  },
  {
   "cell_type": "code",
   "execution_count": null,
   "id": "073875fa",
   "metadata": {
    "scrolled": true
   },
   "outputs": [],
   "source": [
    "month_release = month_release.groupby(['YMnum', 'Country'], as_index=False,).agg({'Releases':'sum'})\n",
    "month_release"
   ]
  },
  {
   "cell_type": "code",
   "execution_count": null,
   "id": "481f7c9a",
   "metadata": {},
   "outputs": [],
   "source": [
    "is_2021 =  month_release['Year']==2021\n",
    "is_2021"
   ]
  },
  {
   "cell_type": "code",
   "execution_count": null,
   "id": "af4ef903",
   "metadata": {},
   "outputs": [],
   "source": [
    "month_2021 = month_release[is_2021]\n",
    "month_2021"
   ]
  },
  {
   "cell_type": "code",
   "execution_count": null,
   "id": "ff0c5006",
   "metadata": {},
   "outputs": [],
   "source": [
    "month = month_release[month_release['YMnum'].isin([1,2,3,4,5,6,7,8,9,10,11,12,13,14,15,16,17,18,19,20,21,22,23,24,25])]\n",
    "america = month_2021[month_2021['Country'].isin(['America'])]\n",
    "australia = month_2021[month_2021['Country'].isin(['Australia'])]"
   ]
  },
  {
   "cell_type": "code",
   "execution_count": null,
   "id": "92173ee5",
   "metadata": {},
   "outputs": [],
   "source": [
    "plt.subplots(figsize=(10,8))\n",
    "plt.plot(america.Month, america.Releases, color=\"Blue\")\n",
    "plt.plot(australia.Month, australia.Releases, color=\"Red\")\n",
    "plt.title('Releases by Year', fontsize=20, fontstyle='oblique')\n",
    "plt.xlabel('Year', fontsize=20, fontstyle='oblique')\n",
    "plt.ylabel('Realeases', fontsize=20, fontstyle='oblique')\n",
    "plt.legend([\"America\", \"Australia\"])\n",
    "plt.show()"
   ]
  },
  {
   "cell_type": "markdown",
   "id": "2ce8170a",
   "metadata": {},
   "source": [
    "Line chart: sum of gross ober the years"
   ]
  },
  {
   "cell_type": "code",
   "execution_count": null,
   "id": "69d21203",
   "metadata": {},
   "outputs": [],
   "source": [
    "box_office_df"
   ]
  },
  {
   "cell_type": "code",
   "execution_count": null,
   "id": "2cc8ea31",
   "metadata": {},
   "outputs": [],
   "source": [
    "gross_years = box_office_df.groupby(['Year'], as_index=False,).agg({'Gross':'sum'})\n",
    "gross_years"
   ]
  },
  {
   "cell_type": "code",
   "execution_count": null,
   "id": "b7abe00f",
   "metadata": {},
   "outputs": [],
   "source": [
    "plt.subplots(figsize=(10,8))\n",
    "plt.plot(gross_years['Year'], gross_years['Gross'], color=\"Blue\")\n",
    "plt.title('Gross by Year', fontsize=20, fontstyle='oblique')\n",
    "plt.xlabel('Year', fontsize=20, fontstyle='oblique')\n",
    "plt.ylabel('Gross', fontsize=20, fontstyle='oblique')\n",
    "plt.show()"
   ]
  },
  {
   "cell_type": "markdown",
   "id": "9138d6bc",
   "metadata": {},
   "source": [
    "Pie chart: sum of gross by country bc"
   ]
  },
  {
   "cell_type": "code",
   "execution_count": null,
   "id": "3c48952c",
   "metadata": {},
   "outputs": [],
   "source": [
    "box_office_df"
   ]
  },
  {
   "cell_type": "code",
   "execution_count": null,
   "id": "2c4b4402",
   "metadata": {},
   "outputs": [],
   "source": [
    "year_gross_bc = box_office_df.groupby(['Year'], as_index=False,).agg({'Gross':'sum'})\n",
    "year_gross_bc"
   ]
  },
  {
   "cell_type": "code",
   "execution_count": null,
   "id": "956eb702",
   "metadata": {},
   "outputs": [],
   "source": [
    "year_gross_ac = box_office_df.groupby(['Year'], as_index=False,).agg({'Gross':'sum'})\n",
    "year_gross_ac"
   ]
  },
  {
   "cell_type": "code",
   "execution_count": null,
   "id": "3a883070",
   "metadata": {},
   "outputs": [],
   "source": [
    "year_gross_bc = year_gross_bc[year_gross_bc.Year != 2020]\n",
    "year_gross_bc = year_gross_bc[year_gross_bc.Year != 2021]\n",
    "year_gross_bc = year_gross_bc[year_gross_bc.Year != 2022]\n",
    "year_gross_bc"
   ]
  },
  {
   "cell_type": "code",
   "execution_count": null,
   "id": "4b5c8724",
   "metadata": {},
   "outputs": [],
   "source": [
    "year_gross_ac = year_gross_ac[year_gross_ac.Year != 2019]\n",
    "year_gross_ac = year_gross_ac[year_gross_ac.Year != 2018]\n",
    "year_gross_ac = year_gross_ac[year_gross_ac.Year != 2017]\n",
    "year_gross_ac\n"
   ]
  },
  {
   "cell_type": "code",
   "execution_count": null,
   "id": "6412dc76",
   "metadata": {},
   "outputs": [],
   "source": [
    "year_gross_bc = year_gross_bc['Gross'].mean()\n",
    "year_gross_bc"
   ]
  },
  {
   "cell_type": "code",
   "execution_count": null,
   "id": "fbf083ba",
   "metadata": {},
   "outputs": [],
   "source": [
    "year_gross_ac = year_gross_ac['Gross'].mean()\n",
    "year_gross_ac"
   ]
  },
  {
   "cell_type": "code",
   "execution_count": null,
   "id": "34721d54",
   "metadata": {},
   "outputs": [],
   "source": [
    "year_gross_ac = int(year_gross_ac)\n",
    "year_gross_bc = int(year_gross_bc)"
   ]
  },
  {
   "cell_type": "code",
   "execution_count": null,
   "id": "a382e9ce",
   "metadata": {},
   "outputs": [],
   "source": [
    "gross = []\n",
    "year = ['Pre Covid', 'During Covid']\n",
    "gross.append(year_gross_bc)\n",
    "gross.append(year_gross_ac)\n",
    "venues_gross = pd.DataFrame(list(zip(year, gross)), columns = ['Period', 'Gross'])\n",
    "venues_gross"
   ]
  },
  {
   "cell_type": "code",
   "execution_count": null,
   "id": "5fb2e9d3",
   "metadata": {},
   "outputs": [],
   "source": [
    "venues_gross['Gross'] = venues_gross['Gross'].div(1000000000).round(0)\n",
    "venues_gross"
   ]
  },
  {
   "cell_type": "code",
   "execution_count": null,
   "id": "6bfa6f82",
   "metadata": {},
   "outputs": [],
   "source": [
    "plt.subplots(figsize=(10,8))\n",
    "plt.pie(venues_gross.Gross, labels = venues_gross.Period, autopct='%.1f%%')\n",
    "plt.title('Gross Average Before and After Covid', fontsize=20, fontstyle='oblique')\n",
    "plt.show()"
   ]
  },
  {
   "cell_type": "code",
   "execution_count": null,
   "id": "c56d6fe4",
   "metadata": {},
   "outputs": [],
   "source": []
  }
 ],
 "metadata": {
  "kernelspec": {
   "display_name": "Python 3 (ipykernel)",
   "language": "python",
   "name": "python3"
  },
  "language_info": {
   "codemirror_mode": {
    "name": "ipython",
    "version": 3
   },
   "file_extension": ".py",
   "mimetype": "text/x-python",
   "name": "python",
   "nbconvert_exporter": "python",
   "pygments_lexer": "ipython3",
   "version": "3.9.7"
  }
 },
 "nbformat": 4,
 "nbformat_minor": 5
}
