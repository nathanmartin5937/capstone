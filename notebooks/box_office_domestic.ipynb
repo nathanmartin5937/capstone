{
 "cells": [
  {
   "cell_type": "code",
   "execution_count": null,
   "id": "b2cff33d",
   "metadata": {},
   "outputs": [],
   "source": [
    "import requests\n",
    "from urllib.request import Request, urlopen\n",
    "from bs4 import BeautifulSoup as BS\n",
    "import re\n",
    "import pandas as pd"
   ]
  },
  {
   "cell_type": "code",
   "execution_count": null,
   "id": "d23161cb",
   "metadata": {},
   "outputs": [],
   "source": [
    "url = 'https://www.boxofficemojo.com/date/?ref_=bo_nb_in_tab'"
   ]
  },
  {
   "cell_type": "code",
   "execution_count": null,
   "id": "152a9a8a",
   "metadata": {},
   "outputs": [],
   "source": [
    "response = requests.get(url)"
   ]
  },
  {
   "cell_type": "code",
   "execution_count": null,
   "id": "d53010b5",
   "metadata": {},
   "outputs": [],
   "source": [
    "type(response)"
   ]
  },
  {
   "cell_type": "code",
   "execution_count": null,
   "id": "7dbb20b6",
   "metadata": {},
   "outputs": [],
   "source": [
    "response.status_code"
   ]
  },
  {
   "cell_type": "code",
   "execution_count": null,
   "id": "26015aca",
   "metadata": {},
   "outputs": [],
   "source": [
    "response.text"
   ]
  },
  {
   "cell_type": "code",
   "execution_count": null,
   "id": "a5eac930",
   "metadata": {},
   "outputs": [],
   "source": [
    "soup = BS(response.text)\n",
    "type(soup)\n",
    "\n",
    "print(soup.prettify())"
   ]
  },
  {
   "cell_type": "code",
   "execution_count": null,
   "id": "1c485780",
   "metadata": {},
   "outputs": [],
   "source": [
    "dom_22 = pd.read_html('https://www.boxofficemojo.com/date/?ref_=bo_nb_in_tab')\n",
    "dom_22"
   ]
  },
  {
   "cell_type": "code",
   "execution_count": null,
   "id": "7ad5e2a9",
   "metadata": {},
   "outputs": [],
   "source": []
  }
 ],
 "metadata": {
  "kernelspec": {
   "display_name": "Python 3 (ipykernel)",
   "language": "python",
   "name": "python3"
  },
  "language_info": {
   "codemirror_mode": {
    "name": "ipython",
    "version": 3
   },
   "file_extension": ".py",
   "mimetype": "text/x-python",
   "name": "python",
   "nbconvert_exporter": "python",
   "pygments_lexer": "ipython3",
   "version": "3.9.7"
  }
 },
 "nbformat": 4,
 "nbformat_minor": 5
}
